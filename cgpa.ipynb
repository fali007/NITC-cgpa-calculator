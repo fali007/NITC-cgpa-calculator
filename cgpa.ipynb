{
 "cells": [
  {
   "cell_type": "code",
   "execution_count": null,
   "metadata": {},
   "outputs": [],
   "source": [
    "# pdf is read into txt file a.txt"
   ]
  },
  {
   "cell_type": "code",
   "execution_count": 10,
   "metadata": {},
   "outputs": [],
   "source": [
    "file=open('a.txt','r')"
   ]
  },
  {
   "cell_type": "code",
   "execution_count": 9,
   "metadata": {},
   "outputs": [],
   "source": [
    "var=[]\n",
    "for i in file:\n",
    "    var.append(i.split('n'))"
   ]
  },
  {
   "cell_type": "code",
   "execution_count": 11,
   "metadata": {},
   "outputs": [],
   "source": [
    "a=file.read()"
   ]
  },
  {
   "cell_type": "code",
   "execution_count": 22,
   "metadata": {},
   "outputs": [],
   "source": [
    "num=a.split('\\\\n\\\\')"
   ]
  },
  {
   "cell_type": "code",
   "execution_count": 26,
   "metadata": {},
   "outputs": [],
   "source": [
    "for i in range(len(num)):\n",
    "    num[i]=num[i][1:]"
   ]
  },
  {
   "cell_type": "code",
   "execution_count": 36,
   "metadata": {},
   "outputs": [],
   "source": [
    "l=[]\n",
    "for i in range(len(num)):\n",
    "    if num[i]=='SGPA':\n",
    "        l.append(num[i+1])"
   ]
  },
  {
   "cell_type": "code",
   "execution_count": 37,
   "metadata": {},
   "outputs": [
    {
     "data": {
      "text/plain": [
       "[' 6.94', ' 7.06', ' 6.52', ' 6.45', ' 7.00', ' 6.58', ' 6.95']"
      ]
     },
     "execution_count": 37,
     "metadata": {},
     "output_type": "execute_result"
    }
   ],
   "source": [
    "l"
   ]
  },
  {
   "cell_type": "code",
   "execution_count": 63,
   "metadata": {},
   "outputs": [],
   "source": [
    "temp=[]\n",
    "for i in range(len(num)):\n",
    "    if num[i][0]==' ':\n",
    "        temp.append(num[i])\n",
    "credit=[]\n",
    "var=[]\n",
    "for i in temp:\n",
    "    if i[1:].isdigit():\n",
    "        var.append(i[1:])\n",
    "    else:\n",
    "        if len(var):\n",
    "            credit.append(var)\n",
    "        var=[]"
   ]
  },
  {
   "cell_type": "code",
   "execution_count": 64,
   "metadata": {},
   "outputs": [
    {
     "data": {
      "text/plain": [
       "[['2', '3', '1', '2', '3', '3', '3'],\n",
       " ['2', '1', '2', '3', '3', '3', '3', '1'],\n",
       " ['3', '3', '3', '4', '4', '2', '2'],\n",
       " ['4', '4', '3', '1', '3', '1', '2', '2', '4'],\n",
       " ['2', '2', '3', '3', '4', '4', '3'],\n",
       " ['1', '2', '3', '3', '4', '3', '3', '3'],\n",
       " ['2', '2', '3', '3', '3', '3', '4']]"
      ]
     },
     "execution_count": 64,
     "metadata": {},
     "output_type": "execute_result"
    }
   ],
   "source": [
    "credit"
   ]
  },
  {
   "cell_type": "code",
   "execution_count": 68,
   "metadata": {},
   "outputs": [],
   "source": [
    "grade=[]\n",
    "temp=[]\n",
    "comp=['S','A','B','C','D','E','P']\n",
    "for i in range(len(num)):\n",
    "    if num[i] in comp:\n",
    "        temp.append(num[i])\n",
    "    else:\n",
    "        if len(temp)<=6:\n",
    "            continue\n",
    "        else:\n",
    "            grade.append(temp)\n",
    "            temp=[]"
   ]
  },
  {
   "cell_type": "code",
   "execution_count": 69,
   "metadata": {},
   "outputs": [
    {
     "data": {
      "text/plain": [
       "[['B', 'C', 'A', 'D', 'D', 'C', 'C'],\n",
       " ['B', 'A', 'C', 'B', 'D', 'D', 'C', 'P'],\n",
       " ['E', 'D', 'B', 'C', 'E', 'A', 'C'],\n",
       " ['C', 'D', 'D', 'P', 'D', 'P', 'D', 'A', 'D'],\n",
       " ['A', 'A', 'D', 'C', 'D', 'D', 'B'],\n",
       " ['A', 'C', 'P', 'C', 'D', 'D', 'D', 'C'],\n",
       " ['D', 'C', 'C', 'B', 'C', 'A', 'E']]"
      ]
     },
     "execution_count": 69,
     "metadata": {},
     "output_type": "execute_result"
    }
   ],
   "source": [
    "grade"
   ]
  },
  {
   "cell_type": "code",
   "execution_count": 70,
   "metadata": {},
   "outputs": [],
   "source": [
    "a={'S':10,'A':9,'B':8,'C':7,'D':6,'E':5,'F':4,'P':0}"
   ]
  },
  {
   "cell_type": "code",
   "execution_count": 95,
   "metadata": {},
   "outputs": [],
   "source": [
    "new=[]\n",
    "for i in range(len(grade)):\n",
    "    val=0\n",
    "    credits=0\n",
    "    for j in range(len(grade[i])):\n",
    "        val+=int(credit[i][j])*a[grade[i][j]]\n",
    "        credits+=int(credit[i][j])\n",
    "    new.append([val,credits])"
   ]
  },
  {
   "cell_type": "code",
   "execution_count": 96,
   "metadata": {},
   "outputs": [
    {
     "data": {
      "text/plain": [
       "[[118, 17], [120, 18], [137, 21], [142, 24], [147, 21], [125, 22], [139, 20]]"
      ]
     },
     "execution_count": 96,
     "metadata": {},
     "output_type": "execute_result"
    }
   ],
   "source": [
    "new"
   ]
  },
  {
   "cell_type": "code",
   "execution_count": 97,
   "metadata": {},
   "outputs": [
    {
     "name": "stdout",
     "output_type": "stream",
     "text": [
      "P 1 7 0 17\n",
      "P 3 3 0 23\n",
      "P 3 5 0 22\n",
      "P 5 2 0 19\n"
     ]
    }
   ],
   "source": [
    "for i in range(len(grade)):\n",
    "    count=0\n",
    "    for j in range(len(grade[i])):\n",
    "        if grade[i][j]=='P':\n",
    "            new[i][1]-=int(credit[i][j])\n",
    "            print(grade[i][j],i,j,count,new[i][1])\n"
   ]
  },
  {
   "cell_type": "code",
   "execution_count": 98,
   "metadata": {},
   "outputs": [
    {
     "data": {
      "text/plain": [
       "[[118, 17], [120, 17], [137, 21], [142, 22], [147, 21], [125, 19], [139, 20]]"
      ]
     },
     "execution_count": 98,
     "metadata": {},
     "output_type": "execute_result"
    }
   ],
   "source": [
    "new"
   ]
  },
  {
   "cell_type": "code",
   "execution_count": 99,
   "metadata": {},
   "outputs": [],
   "source": [
    "sgpa=[]\n",
    "for i in new:\n",
    "    sgpa.append(i[0]/i[1])"
   ]
  },
  {
   "cell_type": "code",
   "execution_count": 101,
   "metadata": {},
   "outputs": [],
   "source": [
    "tot=0\n",
    "den=0\n",
    "for i in new:\n",
    "    tot+=i[0]\n",
    "    den+=i[1]"
   ]
  },
  {
   "cell_type": "code",
   "execution_count": 102,
   "metadata": {},
   "outputs": [
    {
     "data": {
      "text/plain": [
       "6.773722627737226"
      ]
     },
     "execution_count": 102,
     "metadata": {},
     "output_type": "execute_result"
    }
   ],
   "source": [
    "tot/den"
   ]
  },
  {
   "cell_type": "code",
   "execution_count": 100,
   "metadata": {},
   "outputs": [
    {
     "data": {
      "text/plain": [
       "[6.9411764705882355,\n",
       " 7.0588235294117645,\n",
       " 6.523809523809524,\n",
       " 6.454545454545454,\n",
       " 7.0,\n",
       " 6.578947368421052,\n",
       " 6.95]"
      ]
     },
     "execution_count": 100,
     "metadata": {},
     "output_type": "execute_result"
    }
   ],
   "source": [
    "sgpa"
   ]
  },
  {
   "cell_type": "code",
   "execution_count": null,
   "metadata": {},
   "outputs": [],
   "source": []
  }
 ],
 "metadata": {
  "kernelspec": {
   "display_name": "Python 3",
   "language": "python",
   "name": "python3"
  },
  "language_info": {
   "codemirror_mode": {
    "name": "ipython",
    "version": 3
   },
   "file_extension": ".py",
   "mimetype": "text/x-python",
   "name": "python",
   "nbconvert_exporter": "python",
   "pygments_lexer": "ipython3",
   "version": "3.7.4"
  }
 },
 "nbformat": 4,
 "nbformat_minor": 2
}
